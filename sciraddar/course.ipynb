{
 "cells": [
  {
   "cell_type": "markdown",
   "id": "ecf91e82",
   "metadata": {},
   "source": [
    "https://www.ll.mit.edu/outreach/radar-introduction-radar-systems-online-course"
   ]
  },
  {
   "cell_type": "markdown",
   "id": "0631ad76",
   "metadata": {},
   "source": [
    "https://www.amrita.edu/course/introduction-radar-systems/"
   ]
  },
  {
   "cell_type": "markdown",
   "id": "67acf503",
   "metadata": {},
   "source": [
    "https://www.tonex.com/training-courses/radar-communicationstraining/"
   ]
  },
  {
   "cell_type": "markdown",
   "id": "31a5b4dc",
   "metadata": {},
   "source": [
    "https://www.tonex.com/"
   ]
  },
  {
   "cell_type": "markdown",
   "id": "89d59508",
   "metadata": {},
   "source": [
    "https://ocw.mit.edu/search/?t=Electromagnetism"
   ]
  },
  {
   "cell_type": "markdown",
   "id": "4f057820",
   "metadata": {},
   "source": [
    "https://onlinecourses.nptel.ac.in/noc21_ee108/preview"
   ]
  },
  {
   "cell_type": "markdown",
   "id": "6cc9f0fe",
   "metadata": {},
   "source": [
    "https://catalog.byu.edu/engineering/electrical-and-computer-engineering/radar-and-communication-systems"
   ]
  },
  {
   "cell_type": "code",
   "execution_count": null,
   "id": "1f727887",
   "metadata": {},
   "outputs": [],
   "source": []
  }
 ],
 "metadata": {
  "kernelspec": {
   "display_name": "Python 3 (ipykernel)",
   "language": "python",
   "name": "python3"
  },
  "language_info": {
   "codemirror_mode": {
    "name": "ipython",
    "version": 3
   },
   "file_extension": ".py",
   "mimetype": "text/x-python",
   "name": "python",
   "nbconvert_exporter": "python",
   "pygments_lexer": "ipython3",
   "version": "3.9.12"
  }
 },
 "nbformat": 4,
 "nbformat_minor": 5
}
