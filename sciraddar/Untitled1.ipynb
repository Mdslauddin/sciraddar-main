{
 "cells": [
  {
   "cell_type": "code",
   "execution_count": 1,
   "id": "eb619483",
   "metadata": {},
   "outputs": [],
   "source": [
    "import numpy as np"
   ]
  },
  {
   "cell_type": "code",
   "execution_count": 2,
   "id": "a28c533f",
   "metadata": {},
   "outputs": [],
   "source": [
    "def fn_Power_to_dB(p):\n",
    "    \"\"\"\n",
    "    Convert power from watts to decibels\n",
    "    \"\"\"\n",
    "    return 10*np.log10(p);"
   ]
  },
  {
   "cell_type": "code",
   "execution_count": 5,
   "id": "1d65a177",
   "metadata": {},
   "outputs": [
    {
     "data": {
      "text/plain": [
       "30.0"
      ]
     },
     "execution_count": 5,
     "metadata": {},
     "output_type": "execute_result"
    }
   ],
   "source": [
    "fn_Power_to_dB(1000)"
   ]
  },
  {
   "cell_type": "code",
   "execution_count": 6,
   "id": "05d5bb83",
   "metadata": {},
   "outputs": [],
   "source": [
    "def fn_dB_to_Power(dB):\n",
    "    \"\"\"\n",
    "    Convert decibels to watts\n",
    "    \"\"\"\n",
    "    vec10 = 10.*np.ones_like(dB);\n",
    "    exponents = 0.1*dB;\n",
    "    return np.power(vec10,exponents)"
   ]
  },
  {
   "cell_type": "code",
   "execution_count": 7,
   "id": "2d89788b",
   "metadata": {},
   "outputs": [],
   "source": [
    "# Use numpy arrays for maximum flexibility wrt inputs\n",
    "def fnCalculate_Wavelength_or_Frequency(speed_light,freq):\n",
    "    \"\"\"\n",
    "    # wavelength in metres if speed_light in m/s and freq in hertz\n",
    "    # frequency in hertz if speed_light in m/s and wavelenght in metres\n",
    "    \"\"\"\n",
    "    return np.divide(speed_light,freq )"
   ]
  },
  {
   "cell_type": "code",
   "execution_count": 8,
   "id": "8fa5d36b",
   "metadata": {},
   "outputs": [],
   "source": [
    "def fnCalculate_Monostatic_RangeResolution(speed_light,bandwidth):\n",
    "    \"\"\"\n",
    "    Calculate the monostatic range resolution\n",
    "    speed_light in [m/s]\n",
    "    bandwidth in [Hz]\n",
    "    \"\"\"\n",
    "    return np.divide(speed_light,2*bandwidth)"
   ]
  },
  {
   "cell_type": "code",
   "execution_count": 9,
   "id": "b8e7fa8a",
   "metadata": {},
   "outputs": [],
   "source": [
    "def fnCalculate_Monostatic_VelocityResolution(wavelength,pulse_width):\n",
    "    \"\"\"\n",
    "    Calculate the monostatic velocity resolution\n",
    "    wavelength in [m]\n",
    "    pulse_width in [s]\n",
    "    \"\"\"\n",
    "    return np.divide(wavelength,2*pulse_width)"
   ]
  },
  {
   "cell_type": "code",
   "execution_count": 10,
   "id": "1accdb37",
   "metadata": {},
   "outputs": [],
   "source": [
    "def fnCalculate_TimeBandwidthProduct(pulse_width,bandwidth):\n",
    "    return np.multiply(pulse_width,bandwidth)"
   ]
  },
  {
   "cell_type": "code",
   "execution_count": null,
   "id": "6a5cd245",
   "metadata": {},
   "outputs": [],
   "source": []
  }
 ],
 "metadata": {
  "kernelspec": {
   "display_name": "Python 3 (ipykernel)",
   "language": "python",
   "name": "python3"
  },
  "language_info": {
   "codemirror_mode": {
    "name": "ipython",
    "version": 3
   },
   "file_extension": ".py",
   "mimetype": "text/x-python",
   "name": "python",
   "nbconvert_exporter": "python",
   "pygments_lexer": "ipython3",
   "version": "3.9.12"
  }
 },
 "nbformat": 4,
 "nbformat_minor": 5
}
