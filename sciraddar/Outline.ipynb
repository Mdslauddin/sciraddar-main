{
 "cells": [
  {
   "cell_type": "markdown",
   "id": "3e5eb7f6",
   "metadata": {},
   "source": [
    "**Get Started:**\n",
    "\n",
    "- Radar Applications\n",
    "- Radar Systems Engineering\n",
    "- Radar Data Synthesis\n",
    "- Radar Signal and Data Processing\n",
    "- What Is Radar Toolbox?.\n",
    "\n",
    "\n",
    "### What Is Radar Toolbox?\n"
   ]
  },
  {
   "cell_type": "markdown",
   "id": "904be2c1",
   "metadata": {},
   "source": [
    "https://in.mathworks.com/help/radar/"
   ]
  },
  {
   "cell_type": "markdown",
   "id": "fe519802",
   "metadata": {},
   "source": [
    "**Get Started**\n",
    "- Learn the basics of Radar Toolbox\n",
    "\n",
    "**Applications**\n",
    "- Multifunction and cognitive radar, automotive radar, AI for radar, and hardware connectivity\n",
    "\n",
    "**Radar Systems Engineering**\n",
    "- Radar equations, environment and system losses, detection and tracking statistics, synthetic aperture radar (SAR), performance metrics\n",
    "\n",
    "**Scenario Generation**\n",
    "- Airborne, ground-based and shipborne platforms, ground-truth trajectories, theater plots\n",
    "\n",
    "**Data Synthesis**\n",
    "- Simulate radar sensors, generate signals, detections, and tracks, model propagation channels, clutter, target RCS, and micro-Doppler signatures\n",
    "\n",
    "**Signal and Data Processing**\n",
    "- Create waveform libraries, estimate detection ranges, angles, and Doppler, perform clustering and tracking of detections, perform search and track"
   ]
  },
  {
   "cell_type": "markdown",
   "id": "94887149",
   "metadata": {},
   "source": [
    "## Functions\n",
    "\n",
    "https://in.mathworks.com/help/radar/referencelist.html?type=function&s_tid=CRUX_topnav"
   ]
  },
  {
   "cell_type": "markdown",
   "id": "24fd0d5d",
   "metadata": {},
   "source": [
    "# Radar Systems Engineering\n",
    "### Radar Equations\n",
    "- `radareqpow`\tPeak power estimate from radar equation\n",
    "- `radareqrng`\tMaximum theoretical range estimate\n",
    "- `radareqsnr`\tSNR estimate from radar equation\n",
    "- `radareqsarsnr`\tSignal-to-noise ratio of SAR image\n",
    "- `radareqsarpow`\tMinimum peak transmit power using SAR equation\n",
    "- `radareqsarrng`\tMaximum detectable range using SAR equation\n",
    "- `radareqsearchpap`\tPower-aperture product using search radar equation\n",
    "- `radareqsearchrng`\tMaximum detectable range using search radar equation\n",
    "- `radareqsearchsnr`\tRange-dependent SNR using search radar equation\n",
    "- `radarmetricplot`\tPlot radar performance metric against target range\n",
    "\n",
    "\n",
    "### Detection and Tracking Statistics\n",
    "- `blakechart`\tRange-angle-height (Blake) chart\n",
    "- `detectability`\tRadar detectability factor\n",
    "- `probgrid`\tNonuniformly spaced probabilities\n",
    "- `radarbudgetplot`\tDisplay link budget as waterfall plot\n",
    "- `radarmetricplot`\tPlot radar performance metric against target range\n",
    "- `radarvcd`\tVertical coverage diagram\n",
    "- `rocinterp`\tROC curve interpolation\n",
    "- `toccgh`\tCompute track probabilities using the CGH algorithm\n",
    "\n",
    "\n",
    "### Antenna and Receiver Gains and Losses\n",
    "**Antenna and Scanning**\n",
    "- `arrayscanloss`\tLoss due to electronic scanning off broadside\n",
    "- `beamdwellfactor`\tRange-dependent loss for rapidly scanning beam\n",
    "- `beamloss`\tBeam shape loss for Gaussian antenna pattern\n",
    "- `solidangle`\tSolid angle of region bounded by azimuth and elevation angles\n",
    "\n",
    "\n",
    "**Receiver**\n",
    "- `binaryintloss`\tLoss due to M-of-N binary pulse integration\n",
    "- `cfarloss`\tLoss due to constant false alarm rate (CFAR) adaptive processing\n",
    "- `eclipsingloss`\tLoss due to pulse eclipsing\n",
    "- `eclipsingfactor`\tRange-dependent eclipsing factor\n",
    "- `matchingloss`\tReceiver filter matching loss\n",
    "- `mtifactor`\tImprovement factor due to moving target indicator (MTI) processing\n",
    "- `mtiloss`\tLosses due to moving target indicator (MTI) processing\n",
    "- `quanttemp`\tQuantization temperature\n",
    "- `stcfactor`\tSensitivity time control (STC) factor\n",
    "\n",
    "\n",
    "### Environment and Clutter\n",
    "**Atmosphere**\n",
    "- `atmositu`\tUse ITU reference atmospheres\n",
    "- `gaspl`\tRF signal attenuation due to atmospheric gases\n",
    "- `lenspl`\tCalculate loss due to tropospheric lens effect\n",
    "- `radarpropfactor`\tOne-way radar propagation factor\n",
    "- `refractiveidx`\tCalculates the refractive index\n",
    "- `refractionexp`\tCRPL exponential reference atmosphere refraction exponent\n",
    "- `tropopl`\tSlant-path loss due to atmosphere gaseous absorption\n",
    "\n",
    "\n",
    "**Clutter**\n",
    "- `billingsleyicm`\tBillingsley’s intrinsic clutter motion (ICM) model\n",
    "- `clutterSurfaceRCS`\tSurface clutter radar cross section\n",
    "- `clutterSurfaceRangeDopplerRCS`\tSurface RCS as a function of range and Doppler\n",
    "- `clutterGenerator`\tAdd clutter generator for radar\n",
    "- `earthSurfacePermittivity`\tPermittivity and conductivity of earth surface materials\n",
    "- `landreflectivity`\tReflectivity of land surface\n",
    "- `landroughness`\tSurface height standard deviation for land\n",
    "- `landSurface`\tAdd land surface to radar scenario\n",
    "- `seareflectivity`\tNormalized sea surface reflectivity\n",
    "- `searoughness`\tSurface height standard deviation for sea\n",
    "- `seaSpectrum`\tSea surface omnidirectional motion spectrum model\n",
    "- `seaSurface`\tAdd sea surface to radar scenario\n",
    "- `surfacegamma\tGamma` value for different terrains\n",
    "- `surfaceReflectivity`\tNormalized reflectivity of surface\n",
    "- `surfaceReflectivityLand`\tNormalized reflectivity of land surface\n",
    "- `surfaceReflectivityCustom`\tNormalized reflectivity of custom surface\n",
    "- `surfaceReflectivitySea`\tNormalized reflectivity of sea surface\n",
    "- `clutterVolumeRCS`\tRadar cross-section of volume clutter\n",
    "- `surfclutterrcs`\tSurface clutter radar cross section (RCS)\n",
    "\n",
    "\n",
    "**Weather**\n",
    "- `cranerainpl`\tRF signal attenuation due to rainfall using Crane model\n",
    "- `fogpl`\tRF signal attenuation due to fog and clouds\n",
    "- `rainpl`\tRF signal attenuation due to rainfall\n",
    "- `snowpl`\tPath loss due to wet snow\n",
    "\n",
    "\n",
    "**Scenario Geometry**\n",
    "- `depressionang`\tDepression angle of surface target\n",
    "- `effearthradius`\tEffective earth radius\n",
    "- `grazingang`\tGrazing angle of surface target\n",
    "- `horizonrange`\tHorizon range\n",
    "- `llarangeangle`\tPropagation range between two geolocations\n",
    "- `el2height`\tConvert target elevation angle to height\n",
    "- `height2el`\tConvert target height to elevation angle\n",
    "- `height2range`\tConvert target height to propagated range\n",
    "- `height2grndrange`\tConvert target height to ground range\n",
    "- `range2height`\tConvert propagated range to target height\n",
    "- `slant2range`\tConvert slant range to propagated range\n",
    "\n",
    "\n",
    "\n",
    "### Synthetic Aperture Radar\n",
    "**SAR Scene Geometry**\n",
    "- `aperture2swath`\tSwath extent for radar on ground plane\n",
    "- `sarbeamcompratio`\tSAR beam compression ratio\n",
    "- `sarbeamwidth`\tSynthetic aperture azimuth beamwidth\n",
    "- `sardispgrazang`\tDisplay grazing angle for SAR data collection\n",
    "- `sarintang`\tCoherent integration angle for SAR\n",
    "- `sarlen`\tSynthetic aperture length\n",
    "- `sarmaxswath`\tUpper bound on swath length for SAR\n",
    "- `sarmaxcovrate`\tUpper bound on area coverage rate for SAR\n",
    "- `sarminaperture`\tLower bound on antenna area for SAR\n",
    "- `sarrange`\tMaximum unambiguous slant range of SAR\n",
    "- `sarprfbounds`\tUpper and lower bound on PRF for SAR\n",
    "- `sarsquintang`\tSquint angle for SAR data collection\n",
    "- `grnd2slantrange`\tConvert ground range projection to slant range\n",
    "- `slant2grndrange`\tConvert slant range to ground range projection\n",
    "- `grnd2slantrngres`\tConvert ground range resolution to slant range resolution\n",
    "- `slant2grndrngres`\tConvert slant range resolution to ground range resolution\n",
    "\n",
    "\n",
    "\n",
    "**SAR Equation**\n",
    "- `clutterVolumeRCS`\tRadar cross-section of volume clutter\n",
    "- `rainreflectivity`\tVolume reflectivity of rain\n",
    "- `rainscr`\tSignal-to-clutter ratio due to rain\n",
    "- `radareqsarsnr`\tSignal-to-noise ratio of SAR image\n",
    "- `radareqsarpow`\tMinimum peak transmit power using SAR equation\n",
    "- `radareqsarrng`\tMaximum detectable range using SAR equation\n",
    "- `sarnoiserefl`\tNoise equivalent reflectivity of SAR\n",
    "- `sarSurfaceRCS`\tRadar cross-section of target for SAR\n",
    "\n",
    "\n",
    "\n",
    "**SAR Receiver**\n",
    "- `matchinggain`\tGain due to matched filtering\n",
    "- `sarazgain`\tSAR azimuth processing gain\n",
    "- `sarchirprate`\tAzimuth chirp rate of received signal for SAR\n",
    "- `sarpointdopbw`\tDoppler bandwidth due to cross-range platform motion\n",
    "- `sarscenedopbw`\tDoppler bandwidth of full scene after azimuth dechirping\n",
    "- `sarinttime`\tSynthetic aperture integration time\n",
    "- `sarprf`\tSynthetic aperture radar PRF\n",
    "- `sarazres`\tAzimuth or cross-range resolution for SAR\n",
    "- `rainelres`\tElevation resolution of rain limited by radar resolution"
   ]
  },
  {
   "cell_type": "code",
   "execution_count": null,
   "id": "f1f9f552",
   "metadata": {},
   "outputs": [],
   "source": []
  },
  {
   "cell_type": "markdown",
   "id": "e2f4e5cb",
   "metadata": {},
   "source": [
    "# Scenario Generation\n",
    "\n",
    "### Ground Truth Trajectories\n",
    "**Trajectory Functions**\n",
    "- `geoTrajectory`\tWaypoint trajectory in geodetic coordinates\n",
    "- `kinematicTrajectory`\tRate-driven trajectory generator\n",
    "- `waypointTrajectory`\tWaypoint trajectory generator\n",
    "\n",
    "\n",
    "**Quaternion Rotations**\n",
    "- `quaternion`\tCreate a quaternion array\n",
    "- `rotmat`\tConvert quaternion to rotation matrix\n",
    "- `euler`\tConvert quaternion to Euler angles (radians)\n",
    "- `eulerd`\tConvert quaternion to Euler angles (degrees)\n",
    "- `rotvec`\tConvert quaternion to rotation vector (radians)\n",
    "- `rotvecd`\tConvert quaternion to rotation vector (degrees)\n",
    "- `compact`\tConvert quaternion array to N-by-4 matrix\n",
    "- `parts`\tExtract quaternion parts\n",
    "- `rotateframe`\tQuaternion frame rotation\n",
    "- `rotatepoint`\tQuaternion point rotation\n",
    "- `norm`\tQuaternion norm\n",
    "- `normalize`\tQuaternion normalization\n",
    "- `dist`\tAngular distance in radians\n",
    "- `slerp`\tSpherical linear interpolation\n",
    "- `meanrot`\tQuaternion mean rotation\n",
    "- `randrot`\tUniformly distributed random rotations\n",
    "\n",
    "### Scenario Creation and Recording\n",
    "- `coverageConfig`\tSensor and emitter coverage configuration\n",
    "- `emissionsInBody`\tTransform emissions to platform body frame\n",
    "- `insSensor`\tInertial navigation system and GNSS/GPS simulation model\n",
    "- `platform`\tAdd platform to radar scenario\n",
    "- `radarScenario`\tCreate radar scenario\n",
    "- `radarScenarioRecording`\tReturn recording of radar scenario\n",
    "- `perturb`\tApply perturbations to radar scenario\n",
    "- `perturbations`\tPerturbation defined on object\n",
    "\n",
    "\n",
    "### Scenario Visualization\n",
    "- `theaterPlot`\tPlot objects, detections, and tracks in Scenario\n",
    "- `clearData`\tClear data from specific plotter of theater plot\n",
    "- `findPlotter`\tReturn array of plotters associated with theater plot\n",
    "- `clearPlotterData`\tClear plotter data from theater plot\n",
    "- `coveragePlotter`\tCreate coverage plotter\n",
    "- `plotCoverage`\tPlot set of coverages in theater coverage plotter\n",
    "- `detectionPlotter`\tCreate detection plotter\n",
    "- `plotDetection`\tPlot set of detections in theater detection plotter\n",
    "- `orientationPlotter`\tCreate orientation plotter\n",
    "- `plotOrientation`\tPlot set of orientations in orientation plotter\n",
    "- `platformPlotter`\tCreate platform plotter\n",
    "- `plotPlatform`\tPlot set of platforms in platform plotter\n",
    "- `trackPlotter`\tCreate track plotter\n",
    "- `plotTrack`\tPlot set of tracks in theater track plotter\n",
    "- `surfacePlotter`\tCreate surface plotter\n",
    "- `plotSurface`\tPlot surfaces in theater surface plotter\n",
    "- `surfacePlotterData`\tData for surface plotter\n",
    "- `clutterRegionPlotter`\tCreate clutter region plotter\n",
    "- `plotClutterRegion`\tPlot clutter region in theater plot\n",
    "- `clutterRegionData`\tCreate data structure used as input to clutter region plotter\n",
    "- `trajectoryPlotter`\tCreate trajectory plotter\n",
    "- `plotTrajectory`\tPlot set of trajectories in trajectory plotter"
   ]
  },
  {
   "cell_type": "code",
   "execution_count": null,
   "id": "15ff3925",
   "metadata": {},
   "outputs": [],
   "source": []
  },
  {
   "cell_type": "markdown",
   "id": "ba236bfe",
   "metadata": {},
   "source": [
    "# Data Synthesis\n",
    "### Detection and Track Generators\n",
    "- `mergeDetections`\tMerge detections into clustered detections\n",
    "- `radarDataGenerator`\tGenerate radar detections and tracks\n",
    "- `radarEmission`\tEmitted radar signal structure\n",
    "- `radarEmitter`\tRadar signals and interferences generator\n",
    "- `objectDetection`\tReport for single object detection\n",
    "- `objectTrack`\tSingle object track report\n",
    "- `trackHistoryLogic`\tConfirm and delete tracks based on recent track history\n",
    "\n",
    "### Radar Signal Generators\n",
    "- `radarTransceiver`\tMonostatic radar transceiver\n",
    "- `pulseWaveformLibrary`\tCreate library of pulse waveforms\n",
    "\n",
    "\n",
    "### Targets and Environment Echo Generators\n",
    "- `rcscylinder`\tRadar cross section of cylinder\n",
    "- `rcsdisc`\tRadar cross section of flat circular plate\n",
    "- `rcssphere`\tRadar cross section of sphere\n",
    "- `rcstruncone`\tRadar cross section of truncated cone\n",
    "- `radarChannel`\tFree space propagation and reflection of radar signals\n",
    "- `backscatterBicyclist`Backscatter radar signals from bicyclist\n",
    "- `backscatterPedestrian`\tBackscatter radar signals from pedestrian\n",
    "- `barrageJammer`\tBarrage jammer\n",
    "- `constantGammaClutter`\tSimulate constant gamma clutter\n",
    "- `gpuConstantGammaClutter`\tSimulate constant-gamma clutter using GPU\n",
    "- `twoRayChannel`\tTwo-ray propagation channel\n",
    "- `widebandTwoRayChannel`\tWideband two-ray propagation channel\n",
    "- `rcsSignature`\tRadar cross-section pattern"
   ]
  },
  {
   "cell_type": "code",
   "execution_count": null,
   "id": "ca74a5d9",
   "metadata": {},
   "outputs": [],
   "source": []
  },
  {
   "cell_type": "code",
   "execution_count": null,
   "id": "ffd1d88b",
   "metadata": {},
   "outputs": [],
   "source": []
  },
  {
   "cell_type": "code",
   "execution_count": null,
   "id": "9058f457",
   "metadata": {},
   "outputs": [],
   "source": []
  },
  {
   "cell_type": "code",
   "execution_count": null,
   "id": "2d0e045d",
   "metadata": {},
   "outputs": [],
   "source": []
  },
  {
   "cell_type": "code",
   "execution_count": null,
   "id": "06837f51",
   "metadata": {},
   "outputs": [],
   "source": []
  },
  {
   "cell_type": "code",
   "execution_count": null,
   "id": "fdb0df04",
   "metadata": {},
   "outputs": [],
   "source": []
  },
  {
   "cell_type": "code",
   "execution_count": null,
   "id": "41a6ce3f",
   "metadata": {},
   "outputs": [],
   "source": []
  },
  {
   "cell_type": "code",
   "execution_count": null,
   "id": "2d8fd750",
   "metadata": {},
   "outputs": [],
   "source": []
  },
  {
   "cell_type": "code",
   "execution_count": null,
   "id": "8a01873b",
   "metadata": {},
   "outputs": [],
   "source": []
  },
  {
   "cell_type": "code",
   "execution_count": null,
   "id": "30fb5b50",
   "metadata": {},
   "outputs": [],
   "source": []
  },
  {
   "cell_type": "code",
   "execution_count": null,
   "id": "e399d9c8",
   "metadata": {},
   "outputs": [],
   "source": []
  },
  {
   "cell_type": "code",
   "execution_count": null,
   "id": "c4170c7e",
   "metadata": {},
   "outputs": [],
   "source": []
  },
  {
   "cell_type": "code",
   "execution_count": null,
   "id": "7a6247f6",
   "metadata": {},
   "outputs": [],
   "source": []
  },
  {
   "cell_type": "code",
   "execution_count": null,
   "id": "1d477dc1",
   "metadata": {},
   "outputs": [],
   "source": []
  },
  {
   "cell_type": "code",
   "execution_count": null,
   "id": "12ce232a",
   "metadata": {},
   "outputs": [],
   "source": []
  },
  {
   "cell_type": "code",
   "execution_count": null,
   "id": "e0792821",
   "metadata": {},
   "outputs": [],
   "source": []
  },
  {
   "cell_type": "code",
   "execution_count": null,
   "id": "95bc03c7",
   "metadata": {},
   "outputs": [],
   "source": []
  },
  {
   "cell_type": "code",
   "execution_count": null,
   "id": "c9365b69",
   "metadata": {},
   "outputs": [],
   "source": []
  },
  {
   "cell_type": "code",
   "execution_count": null,
   "id": "df87f0ae",
   "metadata": {},
   "outputs": [],
   "source": []
  },
  {
   "cell_type": "code",
   "execution_count": null,
   "id": "7d0cbfad",
   "metadata": {},
   "outputs": [],
   "source": []
  },
  {
   "cell_type": "code",
   "execution_count": null,
   "id": "17388df6",
   "metadata": {},
   "outputs": [],
   "source": []
  },
  {
   "cell_type": "code",
   "execution_count": null,
   "id": "b47b1d90",
   "metadata": {},
   "outputs": [],
   "source": []
  },
  {
   "cell_type": "code",
   "execution_count": null,
   "id": "64991635",
   "metadata": {},
   "outputs": [],
   "source": []
  },
  {
   "cell_type": "code",
   "execution_count": null,
   "id": "07841b7e",
   "metadata": {},
   "outputs": [],
   "source": []
  },
  {
   "cell_type": "code",
   "execution_count": null,
   "id": "50f57386",
   "metadata": {},
   "outputs": [],
   "source": []
  },
  {
   "cell_type": "code",
   "execution_count": null,
   "id": "831092a5",
   "metadata": {},
   "outputs": [],
   "source": []
  },
  {
   "cell_type": "code",
   "execution_count": null,
   "id": "018424ff",
   "metadata": {},
   "outputs": [],
   "source": []
  },
  {
   "cell_type": "code",
   "execution_count": null,
   "id": "10e1c5f8",
   "metadata": {},
   "outputs": [],
   "source": []
  },
  {
   "cell_type": "code",
   "execution_count": null,
   "id": "f820bc1a",
   "metadata": {},
   "outputs": [],
   "source": []
  },
  {
   "cell_type": "code",
   "execution_count": null,
   "id": "3619db8e",
   "metadata": {},
   "outputs": [],
   "source": []
  },
  {
   "cell_type": "code",
   "execution_count": null,
   "id": "dbb7357d",
   "metadata": {},
   "outputs": [],
   "source": []
  },
  {
   "cell_type": "code",
   "execution_count": null,
   "id": "8740b3f0",
   "metadata": {},
   "outputs": [],
   "source": []
  },
  {
   "cell_type": "code",
   "execution_count": null,
   "id": "20b039e2",
   "metadata": {},
   "outputs": [],
   "source": []
  },
  {
   "cell_type": "code",
   "execution_count": null,
   "id": "8ca801db",
   "metadata": {},
   "outputs": [],
   "source": []
  },
  {
   "cell_type": "code",
   "execution_count": null,
   "id": "df95acdd",
   "metadata": {},
   "outputs": [],
   "source": []
  },
  {
   "cell_type": "code",
   "execution_count": null,
   "id": "729b41e7",
   "metadata": {},
   "outputs": [],
   "source": []
  },
  {
   "cell_type": "code",
   "execution_count": null,
   "id": "3ee7afd1",
   "metadata": {},
   "outputs": [],
   "source": []
  },
  {
   "cell_type": "code",
   "execution_count": null,
   "id": "0abe4b9e",
   "metadata": {},
   "outputs": [],
   "source": []
  },
  {
   "cell_type": "code",
   "execution_count": null,
   "id": "c55ae9e3",
   "metadata": {},
   "outputs": [],
   "source": []
  },
  {
   "cell_type": "code",
   "execution_count": null,
   "id": "492d5121",
   "metadata": {},
   "outputs": [],
   "source": []
  },
  {
   "cell_type": "code",
   "execution_count": null,
   "id": "cc8d2a45",
   "metadata": {},
   "outputs": [],
   "source": []
  },
  {
   "cell_type": "code",
   "execution_count": null,
   "id": "15243c4d",
   "metadata": {},
   "outputs": [],
   "source": []
  },
  {
   "cell_type": "code",
   "execution_count": null,
   "id": "6dfc2764",
   "metadata": {},
   "outputs": [],
   "source": []
  },
  {
   "cell_type": "code",
   "execution_count": null,
   "id": "547cfad6",
   "metadata": {},
   "outputs": [],
   "source": []
  },
  {
   "cell_type": "code",
   "execution_count": null,
   "id": "6efb0156",
   "metadata": {},
   "outputs": [],
   "source": []
  },
  {
   "cell_type": "code",
   "execution_count": null,
   "id": "7c2840a8",
   "metadata": {},
   "outputs": [],
   "source": []
  },
  {
   "cell_type": "code",
   "execution_count": null,
   "id": "11a267ee",
   "metadata": {},
   "outputs": [],
   "source": []
  },
  {
   "cell_type": "code",
   "execution_count": null,
   "id": "8cf325a2",
   "metadata": {},
   "outputs": [],
   "source": []
  },
  {
   "cell_type": "code",
   "execution_count": null,
   "id": "8ed531a8",
   "metadata": {},
   "outputs": [],
   "source": []
  },
  {
   "cell_type": "code",
   "execution_count": null,
   "id": "61b4f63b",
   "metadata": {},
   "outputs": [],
   "source": []
  },
  {
   "cell_type": "code",
   "execution_count": null,
   "id": "221c5704",
   "metadata": {},
   "outputs": [],
   "source": []
  },
  {
   "cell_type": "code",
   "execution_count": null,
   "id": "090e32d8",
   "metadata": {},
   "outputs": [],
   "source": []
  },
  {
   "cell_type": "code",
   "execution_count": null,
   "id": "6bd8ab48",
   "metadata": {},
   "outputs": [],
   "source": []
  },
  {
   "cell_type": "code",
   "execution_count": null,
   "id": "bd893987",
   "metadata": {},
   "outputs": [],
   "source": []
  },
  {
   "cell_type": "code",
   "execution_count": null,
   "id": "5e53e93c",
   "metadata": {},
   "outputs": [],
   "source": []
  },
  {
   "cell_type": "code",
   "execution_count": null,
   "id": "846333fe",
   "metadata": {},
   "outputs": [],
   "source": []
  },
  {
   "cell_type": "code",
   "execution_count": null,
   "id": "ad9cbe8c",
   "metadata": {},
   "outputs": [],
   "source": []
  },
  {
   "cell_type": "code",
   "execution_count": null,
   "id": "9982de38",
   "metadata": {},
   "outputs": [],
   "source": []
  },
  {
   "cell_type": "code",
   "execution_count": null,
   "id": "66f42be5",
   "metadata": {},
   "outputs": [],
   "source": []
  },
  {
   "cell_type": "code",
   "execution_count": null,
   "id": "199d66c5",
   "metadata": {},
   "outputs": [],
   "source": []
  },
  {
   "cell_type": "markdown",
   "id": "900cce16",
   "metadata": {},
   "source": [
    "https://www.tutorialspoint.com/radar_systems/radar_systems_range_equation.htm"
   ]
  },
  {
   "cell_type": "markdown",
   "id": "ded6c05f",
   "metadata": {},
   "source": [
    "https://www.radartutorial.eu/01.basics/The%20Radar%20Range%20Equation.en.html"
   ]
  },
  {
   "cell_type": "markdown",
   "id": "c67be0bf",
   "metadata": {},
   "source": [
    "https://www.sciencedirect.com/topics/engineering/radar-equation"
   ]
  },
  {
   "cell_type": "markdown",
   "id": "55ce0352",
   "metadata": {},
   "source": [
    "https://www.electroniclinic.com/radar-types-of-radar-radar-range-equation-and-radar-uses/"
   ]
  },
  {
   "cell_type": "markdown",
   "id": "c9b99c1b",
   "metadata": {},
   "source": [
    "https://www.rfwireless-world.com/Tutorials/radar-tutorial.html"
   ]
  },
  {
   "cell_type": "markdown",
   "id": "f8291564",
   "metadata": {},
   "source": [
    "https://en.wikipedia.org/wiki/Radar"
   ]
  },
  {
   "cell_type": "markdown",
   "id": "ef7c3d2a",
   "metadata": {},
   "source": [
    "https://en.wikipedia.org/wiki/List_of_radar_types"
   ]
  },
  {
   "cell_type": "markdown",
   "id": "ff974284",
   "metadata": {},
   "source": [
    "https://en.wikipedia.org/wiki/Weather_radar"
   ]
  },
  {
   "cell_type": "markdown",
   "id": "b6a0da72",
   "metadata": {},
   "source": [
    "https://en.wikipedia.org/wiki/Imaging_radar"
   ]
  },
  {
   "cell_type": "markdown",
   "id": "008455ce",
   "metadata": {},
   "source": [
    "https://en.wikipedia.org/wiki/Radar_astronomy"
   ]
  },
  {
   "cell_type": "markdown",
   "id": "40a4c02c",
   "metadata": {},
   "source": [
    "https://en.wikipedia.org/wiki/Waveguide"
   ]
  },
  {
   "cell_type": "markdown",
   "id": "2288e25f",
   "metadata": {},
   "source": [
    "https://www.sigidwiki.com/wiki/Category:Radar"
   ]
  },
  {
   "cell_type": "code",
   "execution_count": null,
   "id": "6502fb3e",
   "metadata": {},
   "outputs": [],
   "source": []
  }
 ],
 "metadata": {
  "kernelspec": {
   "display_name": "Python 3 (ipykernel)",
   "language": "python",
   "name": "python3"
  },
  "language_info": {
   "codemirror_mode": {
    "name": "ipython",
    "version": 3
   },
   "file_extension": ".py",
   "mimetype": "text/x-python",
   "name": "python",
   "nbconvert_exporter": "python",
   "pygments_lexer": "ipython3",
   "version": "3.9.12"
  }
 },
 "nbformat": 4,
 "nbformat_minor": 5
}
