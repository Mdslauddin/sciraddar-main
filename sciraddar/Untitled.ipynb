{
 "cells": [
  {
   "cell_type": "markdown",
   "id": "44df33f0",
   "metadata": {},
   "source": [
    "https://onlinecourses.nptel.ac.in/noc19_ee58/preview"
   ]
  },
  {
   "cell_type": "raw",
   "id": "5af024c7",
   "metadata": {},
   "source": [
    "phyconstant('LightSpeed') # 299792458\n",
    "fc = 1.0e9\n"
   ]
  },
  {
   "cell_type": "code",
   "execution_count": 1,
   "id": "2fbeed21",
   "metadata": {},
   "outputs": [
    {
     "data": {
      "text/plain": [
       "2.99792458e-91"
      ]
     },
     "execution_count": 1,
     "metadata": {},
     "output_type": "execute_result"
    }
   ],
   "source": [
    "299792458/1.0e99\n"
   ]
  },
  {
   "cell_type": "code",
   "execution_count": null,
   "id": "7ff52cac",
   "metadata": {},
   "outputs": [],
   "source": [
    "def radareqpow(lamda,tgtrng,SNR,tau,Name,Value):\n",
    "    "
   ]
  },
  {
   "cell_type": "code",
   "execution_count": null,
   "id": "6615c85e",
   "metadata": {},
   "outputs": [],
   "source": [
    "fc = 10.0e9;\n",
    "LightSpeed = 299792458\n",
    "lamda = LightSpeed/fc\n",
    "tgtrng = 50e3\n",
    "SNR = 6\n",
    "tau = 1e-6\n",
    "\n",
    "#Pt = 2.1996e+05"
   ]
  },
  {
   "cell_type": "code",
   "execution_count": null,
   "id": "4eae95ea",
   "metadata": {},
   "outputs": [],
   "source": [
    "Pt = radareqpow(lamda,tgtrng,SNR,tau)"
   ]
  },
  {
   "cell_type": "code",
   "execution_count": 3,
   "id": "b2bcb3ed",
   "metadata": {},
   "outputs": [],
   "source": [
    "l = LightSpeed=22\n"
   ]
  },
  {
   "cell_type": "code",
   "execution_count": null,
   "id": "403ef3b4",
   "metadata": {},
   "outputs": [],
   "source": []
  },
  {
   "cell_type": "code",
   "execution_count": null,
   "id": "6509a397",
   "metadata": {},
   "outputs": [],
   "source": []
  },
  {
   "cell_type": "code",
   "execution_count": null,
   "id": "3b405733",
   "metadata": {},
   "outputs": [],
   "source": []
  },
  {
   "cell_type": "code",
   "execution_count": null,
   "id": "13fcd488",
   "metadata": {},
   "outputs": [],
   "source": []
  },
  {
   "cell_type": "code",
   "execution_count": null,
   "id": "b22bdcec",
   "metadata": {},
   "outputs": [],
   "source": []
  }
 ],
 "metadata": {
  "kernelspec": {
   "display_name": "Python 3 (ipykernel)",
   "language": "python",
   "name": "python3"
  },
  "language_info": {
   "codemirror_mode": {
    "name": "ipython",
    "version": 3
   },
   "file_extension": ".py",
   "mimetype": "text/x-python",
   "name": "python",
   "nbconvert_exporter": "python",
   "pygments_lexer": "ipython3",
   "version": "3.9.12"
  }
 },
 "nbformat": 4,
 "nbformat_minor": 5
}
