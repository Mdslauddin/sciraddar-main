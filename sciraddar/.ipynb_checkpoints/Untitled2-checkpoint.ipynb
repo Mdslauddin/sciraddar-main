{
 "cells": [
  {
   "cell_type": "markdown",
   "id": "7d13ae00",
   "metadata": {},
   "source": [
    "https://www.elprocus.com/radar-basics-types-and-applications/"
   ]
  },
  {
   "cell_type": "code",
   "execution_count": null,
   "id": "b032efee",
   "metadata": {},
   "outputs": [],
   "source": [
    "from constant import* "
   ]
  },
  {
   "cell_type": "code",
   "execution_count": null,
   "id": "00544a72",
   "metadata": {},
   "outputs": [],
   "source": [
    "def radarrng(t):\n",
    "    return (c*t)/2"
   ]
  },
  {
   "cell_type": "code",
   "execution_count": null,
   "id": "5050a277",
   "metadata": {},
   "outputs": [],
   "source": [
    "radarrng(3)"
   ]
  },
  {
   "cell_type": "code",
   "execution_count": null,
   "id": "54065761",
   "metadata": {},
   "outputs": [],
   "source": [
    "def radarfp(Tp):\n",
    "    return (1/Tp)"
   ]
  },
  {
   "cell_type": "code",
   "execution_count": null,
   "id": "21433c9d",
   "metadata": {},
   "outputs": [],
   "source": [
    "def radarmaxunambrng(Tp):\n",
    "    return (c*Tp)/2"
   ]
  },
  {
   "cell_type": "code",
   "execution_count": null,
   "id": "7f71f369",
   "metadata": {},
   "outputs": [],
   "source": [
    "def radarminrng(t):\n",
    "    return (c*t)/2"
   ]
  },
  {
   "cell_type": "code",
   "execution_count": null,
   "id": "f07178a4",
   "metadata": {},
   "outputs": [],
   "source": [
    "radarfp(8)"
   ]
  },
  {
   "cell_type": "code",
   "execution_count": null,
   "id": "8349de0a",
   "metadata": {},
   "outputs": [],
   "source": [
    "radarminrng(100)"
   ]
  },
  {
   "cell_type": "code",
   "execution_count": null,
   "id": "6fd19a42",
   "metadata": {},
   "outputs": [],
   "source": [
    "radarrng(100)"
   ]
  },
  {
   "cell_type": "code",
   "execution_count": 1,
   "id": "bc8327d2",
   "metadata": {},
   "outputs": [
    {
     "name": "stdout",
     "output_type": "stream",
     "text": [
      "5.771060309856581e+26\n"
     ]
    }
   ],
   "source": [
    "import numpy as np\n",
    "\n",
    "def peak_power(range_, G, Gr, L, RCS, S, f):\n",
    "    \"\"\"Estimate the peak transmitted power of a radar system.\n",
    "\n",
    "    Args:\n",
    "        range_: The maximum range of the radar system (in meters).\n",
    "        G: The antenna gain (in dB).\n",
    "        Gr: The receiver gain (in dB).\n",
    "        L: The system loss (in dB).\n",
    "        RCS: The radar cross-section of the target (in square meters).\n",
    "        S: The receiver noise power (in watts).\n",
    "        f: The operating frequency of the radar (in Hz).\n",
    "\n",
    "    Returns:\n",
    "        The estimated peak transmitted power of the radar system (in watts).\n",
    "    \"\"\"\n",
    "    # Convert dB values to linear scale\n",
    "    G = 10**(G / 10)\n",
    "    Gr = 10**(Gr / 10)\n",
    "    L = 10**(L / 10)\n",
    "\n",
    "    # Calculate the peak transmitted power\n",
    "    Pt = (S * (4 * np.pi * f)**4 * range_**2) / (G**2 * Gr**2 * L * RCS)\n",
    "\n",
    "    return Pt\n",
    "\n",
    "# Test the peak_power function\n",
    "Pt = peak_power(range_=17069, G=30, Gr=20, L=1, RCS=1, S=1e-12, f=1e9)\n",
    "print(Pt)  # ~1e6 watts\n"
   ]
  },
  {
   "cell_type": "code",
   "execution_count": null,
   "id": "5a9dec5d",
   "metadata": {},
   "outputs": [],
   "source": []
  }
 ],
 "metadata": {
  "kernelspec": {
   "display_name": "Python 3 (ipykernel)",
   "language": "python",
   "name": "python3"
  },
  "language_info": {
   "codemirror_mode": {
    "name": "ipython",
    "version": 3
   },
   "file_extension": ".py",
   "mimetype": "text/x-python",
   "name": "python",
   "nbconvert_exporter": "python",
   "pygments_lexer": "ipython3",
   "version": "3.9.12"
  }
 },
 "nbformat": 4,
 "nbformat_minor": 5
}
